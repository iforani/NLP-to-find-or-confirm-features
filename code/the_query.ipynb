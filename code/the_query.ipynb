{
 "cells": [
  {
   "cell_type": "markdown",
   "metadata": {},
   "source": [
    "### Used to develop Yelp GraphQL query"
   ]
  },
  {
   "cell_type": "code",
   "execution_count": 1,
   "metadata": {},
   "outputs": [],
   "source": [
    "from bs4 import BeautifulSoup\n",
    "import requests\n",
    "import numpy as np\n",
    "import matplotlib.pyplot as plt\n",
    "import pandas as pd\n",
    "import json\n",
    "from gql import gql, Client\n",
    "# from gql.transport.aiohttp import AIOHTTPTransport\n",
    "from gql.transport.requests import RequestsHTTPTransport\n",
    "# from gql.transport.local_schema import LocalSchemaTransport\n"
   ]
  },
  {
   "cell_type": "code",
   "execution_count": null,
   "metadata": {},
   "outputs": [],
   "source": []
  },
  {
   "cell_type": "code",
   "execution_count": 2,
   "metadata": {},
   "outputs": [],
   "source": [
    "#api_key = <insert api>"
   ]
  },
  {
   "cell_type": "code",
   "execution_count": 15,
   "metadata": {},
   "outputs": [],
   "source": [
    "header = {'Authorization': f'Bearer {api_key}', 'Content-Type':'application/json'} #'Content-Type': 'application/json'  OR 'Content-Type':'application/graphql'"
   ]
  },
  {
   "cell_type": "code",
   "execution_count": 16,
   "metadata": {},
   "outputs": [],
   "source": [
    "url='https://api.yelp.com/v3/graphql'"
   ]
  },
  {
   "cell_type": "code",
   "execution_count": 17,
   "metadata": {},
   "outputs": [],
   "source": [
    "transport = RequestsHTTPTransport(url = url, headers=header, use_json = True) #use_json = True"
   ]
  },
  {
   "cell_type": "code",
   "execution_count": 18,
   "metadata": {},
   "outputs": [],
   "source": [
    "client = Client(transport = transport, fetch_schema_from_transport = True ) #fetch_schema_from_transport = True"
   ]
  },
  {
   "cell_type": "markdown",
   "metadata": {},
   "source": [
    "### Query Skeleton"
   ]
  },
  {
   "cell_type": "code",
   "execution_count": null,
   "metadata": {},
   "outputs": [],
   "source": [
    "# {\n",
    "#     search(location: \"11217\" categories: \"bars, beergarden, beergardens, beerhall, gastropubs, breweries, brewpubs\" limit: 3 offset:0 ) {\n",
    "#         total\n",
    "#             business {\n",
    "#                 name\n",
    "#                 alias\n",
    "#               \tid\n",
    "#              \t\treview_count\n",
    "#                 rating\n",
    "#               \turl\n",
    "#                 location {\n",
    "#                     city\n",
    "#                     postal_code\n",
    "#                 }\n",
    "#                 coordinates{\n",
    "#                   latitude\n",
    "#                   longitude\n",
    "#                 }\n",
    "#                 }\n",
    "#             }\n",
    "#         }"
   ]
  },
  {
   "cell_type": "code",
   "execution_count": 29,
   "metadata": {},
   "outputs": [
    {
     "name": "stdout",
     "output_type": "stream",
     "text": [
      "{'search': {'total': 522, 'business': [{'name': \"Angel's Share\", 'alias': 'angels-share-new-york', 'id': 'ZD22cMZvSmfNsXS9vKizGA', 'review_count': 2116, 'rating': 4.5, 'url': 'https://www.yelp.com/biz/angels-share-new-york?adjust_creative=bMPz0NoFK6qQZAimQncxVw&utm_campaign=yelp_api_v3&utm_medium=api_v3_graphql&utm_source=bMPz0NoFK6qQZAimQncxVw', 'location': {'city': 'New York', 'postal_code': '10003'}, 'coordinates': {'latitude': 40.7297097529882, 'longitude': -73.9891492245369}}, {'name': 'McSorleys Old Ale House', 'alias': 'mcsorleys-old-ale-house-new-york', 'id': 'QArou0r7CmLNPWYRA9ecog', 'review_count': 1774, 'rating': 4.0, 'url': 'https://www.yelp.com/biz/mcsorleys-old-ale-house-new-york?adjust_creative=bMPz0NoFK6qQZAimQncxVw&utm_campaign=yelp_api_v3&utm_medium=api_v3_graphql&utm_source=bMPz0NoFK6qQZAimQncxVw', 'location': {'city': 'New York', 'postal_code': '10003'}, 'coordinates': {'latitude': 40.72884, 'longitude': -73.98965}}]}}\n"
     ]
    }
   ],
   "source": [
    "query = gql(''' \n",
    "\n",
    "{\n",
    "    search(location: \"10003\" categories: \"bars, beergarden, beergardens, beerhall, gastropubs, breweries, brewpubs\" limit: 2 offset:0 ) {\n",
    "        total\n",
    "            business {\n",
    "                name\n",
    "                alias\n",
    "              \tid\n",
    "             \treview_count\n",
    "                rating\n",
    "              \turl\n",
    "                location {\n",
    "                    city\n",
    "                    postal_code\n",
    "                }\n",
    "                coordinates{\n",
    "                  latitude\n",
    "                  longitude\n",
    "                }\n",
    "                }\n",
    "            }\n",
    "        }\n",
    "\n",
    "''')\n",
    "\n",
    "response_query = client.execute(query)\n",
    "print(response_query)"
   ]
  },
  {
   "cell_type": "code",
   "execution_count": 23,
   "metadata": {},
   "outputs": [
    {
     "data": {
      "text/plain": [
       "{'search': {'total': 521,\n",
       "  'business': [{'name': \"Angel's Share\",\n",
       "    'alias': 'angels-share-new-york',\n",
       "    'id': 'ZD22cMZvSmfNsXS9vKizGA',\n",
       "    'review_count': 2116,\n",
       "    'rating': 4.5,\n",
       "    'url': 'https://www.yelp.com/biz/angels-share-new-york?adjust_creative=bMPz0NoFK6qQZAimQncxVw&utm_campaign=yelp_api_v3&utm_medium=api_v3_graphql&utm_source=bMPz0NoFK6qQZAimQncxVw',\n",
       "    'location': {'city': 'New York', 'postal_code': '10003'},\n",
       "    'coordinates': {'latitude': 40.7297097529882,\n",
       "     'longitude': -73.9891492245369}},\n",
       "   {'name': 'McSorleys Old Ale House',\n",
       "    'alias': 'mcsorleys-old-ale-house-new-york',\n",
       "    'id': 'QArou0r7CmLNPWYRA9ecog',\n",
       "    'review_count': 1773,\n",
       "    'rating': 4.0,\n",
       "    'url': 'https://www.yelp.com/biz/mcsorleys-old-ale-house-new-york?adjust_creative=bMPz0NoFK6qQZAimQncxVw&utm_campaign=yelp_api_v3&utm_medium=api_v3_graphql&utm_source=bMPz0NoFK6qQZAimQncxVw',\n",
       "    'location': {'city': 'New York', 'postal_code': '10003'},\n",
       "    'coordinates': {'latitude': 40.72884, 'longitude': -73.98965}}]}}"
      ]
     },
     "execution_count": 23,
     "metadata": {},
     "output_type": "execute_result"
    }
   ],
   "source": [
    "response_query"
   ]
  },
  {
   "cell_type": "code",
   "execution_count": 27,
   "metadata": {},
   "outputs": [
    {
     "data": {
      "text/plain": [
       "[{'name': \"Angel's Share\",\n",
       "  'alias': 'angels-share-new-york',\n",
       "  'id': 'ZD22cMZvSmfNsXS9vKizGA',\n",
       "  'review_count': 2116,\n",
       "  'rating': 4.5,\n",
       "  'url': 'https://www.yelp.com/biz/angels-share-new-york?adjust_creative=bMPz0NoFK6qQZAimQncxVw&utm_campaign=yelp_api_v3&utm_medium=api_v3_graphql&utm_source=bMPz0NoFK6qQZAimQncxVw',\n",
       "  'location': {'city': 'New York', 'postal_code': '10003'},\n",
       "  'coordinates': {'latitude': 40.7297097529882,\n",
       "   'longitude': -73.9891492245369}},\n",
       " {'name': 'McSorleys Old Ale House',\n",
       "  'alias': 'mcsorleys-old-ale-house-new-york',\n",
       "  'id': 'QArou0r7CmLNPWYRA9ecog',\n",
       "  'review_count': 1773,\n",
       "  'rating': 4.0,\n",
       "  'url': 'https://www.yelp.com/biz/mcsorleys-old-ale-house-new-york?adjust_creative=bMPz0NoFK6qQZAimQncxVw&utm_campaign=yelp_api_v3&utm_medium=api_v3_graphql&utm_source=bMPz0NoFK6qQZAimQncxVw',\n",
       "  'location': {'city': 'New York', 'postal_code': '10003'},\n",
       "  'coordinates': {'latitude': 40.72884, 'longitude': -73.98965}}]"
      ]
     },
     "execution_count": 27,
     "metadata": {},
     "output_type": "execute_result"
    }
   ],
   "source": [
    "response_query['search']['business']"
   ]
  },
  {
   "cell_type": "code",
   "execution_count": 28,
   "metadata": {},
   "outputs": [
    {
     "data": {
      "text/html": [
       "<div>\n",
       "<style scoped>\n",
       "    .dataframe tbody tr th:only-of-type {\n",
       "        vertical-align: middle;\n",
       "    }\n",
       "\n",
       "    .dataframe tbody tr th {\n",
       "        vertical-align: top;\n",
       "    }\n",
       "\n",
       "    .dataframe thead th {\n",
       "        text-align: right;\n",
       "    }\n",
       "</style>\n",
       "<table border=\"1\" class=\"dataframe\">\n",
       "  <thead>\n",
       "    <tr style=\"text-align: right;\">\n",
       "      <th></th>\n",
       "      <th>name</th>\n",
       "      <th>alias</th>\n",
       "      <th>id</th>\n",
       "      <th>review_count</th>\n",
       "      <th>rating</th>\n",
       "      <th>url</th>\n",
       "      <th>location</th>\n",
       "      <th>coordinates</th>\n",
       "    </tr>\n",
       "  </thead>\n",
       "  <tbody>\n",
       "    <tr>\n",
       "      <th>0</th>\n",
       "      <td>Angel's Share</td>\n",
       "      <td>angels-share-new-york</td>\n",
       "      <td>ZD22cMZvSmfNsXS9vKizGA</td>\n",
       "      <td>2116</td>\n",
       "      <td>4.5</td>\n",
       "      <td>https://www.yelp.com/biz/angels-share-new-york...</td>\n",
       "      <td>{'city': 'New York', 'postal_code': '10003'}</td>\n",
       "      <td>{'latitude': 40.7297097529882, 'longitude': -7...</td>\n",
       "    </tr>\n",
       "    <tr>\n",
       "      <th>1</th>\n",
       "      <td>McSorleys Old Ale House</td>\n",
       "      <td>mcsorleys-old-ale-house-new-york</td>\n",
       "      <td>QArou0r7CmLNPWYRA9ecog</td>\n",
       "      <td>1773</td>\n",
       "      <td>4.0</td>\n",
       "      <td>https://www.yelp.com/biz/mcsorleys-old-ale-hou...</td>\n",
       "      <td>{'city': 'New York', 'postal_code': '10003'}</td>\n",
       "      <td>{'latitude': 40.72884, 'longitude': -73.98965}</td>\n",
       "    </tr>\n",
       "  </tbody>\n",
       "</table>\n",
       "</div>"
      ],
      "text/plain": [
       "                      name                             alias  \\\n",
       "0            Angel's Share             angels-share-new-york   \n",
       "1  McSorleys Old Ale House  mcsorleys-old-ale-house-new-york   \n",
       "\n",
       "                       id  review_count  rating  \\\n",
       "0  ZD22cMZvSmfNsXS9vKizGA          2116     4.5   \n",
       "1  QArou0r7CmLNPWYRA9ecog          1773     4.0   \n",
       "\n",
       "                                                 url  \\\n",
       "0  https://www.yelp.com/biz/angels-share-new-york...   \n",
       "1  https://www.yelp.com/biz/mcsorleys-old-ale-hou...   \n",
       "\n",
       "                                       location  \\\n",
       "0  {'city': 'New York', 'postal_code': '10003'}   \n",
       "1  {'city': 'New York', 'postal_code': '10003'}   \n",
       "\n",
       "                                         coordinates  \n",
       "0  {'latitude': 40.7297097529882, 'longitude': -7...  \n",
       "1     {'latitude': 40.72884, 'longitude': -73.98965}  "
      ]
     },
     "execution_count": 28,
     "metadata": {},
     "output_type": "execute_result"
    }
   ],
   "source": [
    "pd.DataFrame(response_query['search']['business'])"
   ]
  },
  {
   "cell_type": "code",
   "execution_count": null,
   "metadata": {},
   "outputs": [],
   "source": []
  }
 ],
 "metadata": {
  "kernelspec": {
   "display_name": "Python 3",
   "language": "python",
   "name": "python3"
  },
  "language_info": {
   "codemirror_mode": {
    "name": "ipython",
    "version": 3
   },
   "file_extension": ".py",
   "mimetype": "text/x-python",
   "name": "python",
   "nbconvert_exporter": "python",
   "pygments_lexer": "ipython3",
   "version": "3.8.3"
  }
 },
 "nbformat": 4,
 "nbformat_minor": 4
}
