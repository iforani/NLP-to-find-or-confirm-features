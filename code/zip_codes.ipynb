{
 "cells": [
  {
   "cell_type": "markdown",
   "metadata": {},
   "source": [
    "### Obtaining and Organinzing zip codes"
   ]
  },
  {
   "cell_type": "code",
   "execution_count": 1,
   "metadata": {},
   "outputs": [],
   "source": [
    "import pandas as pd"
   ]
  },
  {
   "cell_type": "code",
   "execution_count": 10,
   "metadata": {},
   "outputs": [],
   "source": [
    "zip_table = pd.read_html('https://www.health.ny.gov/statistics/cancer/registry/appendix/neighborhoods.htm')"
   ]
  },
  {
   "cell_type": "code",
   "execution_count": 11,
   "metadata": {},
   "outputs": [
    {
     "data": {
      "text/html": [
       "<div>\n",
       "<style scoped>\n",
       "    .dataframe tbody tr th:only-of-type {\n",
       "        vertical-align: middle;\n",
       "    }\n",
       "\n",
       "    .dataframe tbody tr th {\n",
       "        vertical-align: top;\n",
       "    }\n",
       "\n",
       "    .dataframe thead th {\n",
       "        text-align: right;\n",
       "    }\n",
       "</style>\n",
       "<table border=\"1\" class=\"dataframe\">\n",
       "  <thead>\n",
       "    <tr style=\"text-align: right;\">\n",
       "      <th></th>\n",
       "      <th>Borough</th>\n",
       "      <th>Neighborhood</th>\n",
       "      <th>ZIP Codes</th>\n",
       "    </tr>\n",
       "  </thead>\n",
       "  <tbody>\n",
       "    <tr>\n",
       "      <th>0</th>\n",
       "      <td>Bronx</td>\n",
       "      <td>Central Bronx</td>\n",
       "      <td>10453, 10457, 10460</td>\n",
       "    </tr>\n",
       "    <tr>\n",
       "      <th>1</th>\n",
       "      <td>Bronx</td>\n",
       "      <td>Bronx Park and Fordham</td>\n",
       "      <td>10458, 10467, 10468</td>\n",
       "    </tr>\n",
       "    <tr>\n",
       "      <th>2</th>\n",
       "      <td>Bronx</td>\n",
       "      <td>High Bridge and Morrisania</td>\n",
       "      <td>10451, 10452, 10456</td>\n",
       "    </tr>\n",
       "    <tr>\n",
       "      <th>3</th>\n",
       "      <td>Bronx</td>\n",
       "      <td>Hunts Point and Mott Haven</td>\n",
       "      <td>10454, 10455, 10459, 10474</td>\n",
       "    </tr>\n",
       "    <tr>\n",
       "      <th>4</th>\n",
       "      <td>Bronx</td>\n",
       "      <td>Kingsbridge and Riverdale</td>\n",
       "      <td>10463, 10471</td>\n",
       "    </tr>\n",
       "  </tbody>\n",
       "</table>\n",
       "</div>"
      ],
      "text/plain": [
       "  Borough                Neighborhood                   ZIP Codes\n",
       "0   Bronx               Central Bronx         10453, 10457, 10460\n",
       "1   Bronx      Bronx Park and Fordham         10458, 10467, 10468\n",
       "2   Bronx  High Bridge and Morrisania         10451, 10452, 10456\n",
       "3   Bronx  Hunts Point and Mott Haven  10454, 10455, 10459, 10474\n",
       "4   Bronx   Kingsbridge and Riverdale                10463, 10471"
      ]
     },
     "execution_count": 11,
     "metadata": {},
     "output_type": "execute_result"
    }
   ],
   "source": [
    "zips = pd.DataFrame(zip_table[0])\n",
    "zips.head()"
   ]
  },
  {
   "cell_type": "code",
   "execution_count": 12,
   "metadata": {},
   "outputs": [
    {
     "data": {
      "text/plain": [
       "Index(['Borough', 'Neighborhood', 'ZIP Codes'], dtype='object')"
      ]
     },
     "execution_count": 12,
     "metadata": {},
     "output_type": "execute_result"
    }
   ],
   "source": [
    "zips.columns"
   ]
  },
  {
   "cell_type": "code",
   "execution_count": 14,
   "metadata": {},
   "outputs": [
    {
     "name": "stdout",
     "output_type": "stream",
     "text": [
      "<class 'pandas.core.frame.DataFrame'>\n",
      "RangeIndex: 42 entries, 0 to 41\n",
      "Data columns (total 3 columns):\n",
      " #   Column        Non-Null Count  Dtype \n",
      "---  ------        --------------  ----- \n",
      " 0   Borough       42 non-null     object\n",
      " 1   Neighborhood  42 non-null     object\n",
      " 2   ZIP Codes     42 non-null     object\n",
      "dtypes: object(3)\n",
      "memory usage: 1.1+ KB\n"
     ]
    }
   ],
   "source": [
    "zips.info()"
   ]
  },
  {
   "cell_type": "code",
   "execution_count": 19,
   "metadata": {},
   "outputs": [
    {
     "data": {
      "text/html": [
       "<div>\n",
       "<style scoped>\n",
       "    .dataframe tbody tr th:only-of-type {\n",
       "        vertical-align: middle;\n",
       "    }\n",
       "\n",
       "    .dataframe tbody tr th {\n",
       "        vertical-align: top;\n",
       "    }\n",
       "\n",
       "    .dataframe thead th {\n",
       "        text-align: right;\n",
       "    }\n",
       "</style>\n",
       "<table border=\"1\" class=\"dataframe\">\n",
       "  <thead>\n",
       "    <tr style=\"text-align: right;\">\n",
       "      <th></th>\n",
       "      <th>Borough</th>\n",
       "      <th>Neighborhood</th>\n",
       "      <th>ZIP Codes</th>\n",
       "    </tr>\n",
       "  </thead>\n",
       "  <tbody>\n",
       "    <tr>\n",
       "      <th>28</th>\n",
       "      <td>Queens</td>\n",
       "      <td>Northeast Queens</td>\n",
       "      <td>11361, 11362, 11363, 11364</td>\n",
       "    </tr>\n",
       "    <tr>\n",
       "      <th>29</th>\n",
       "      <td>Queens</td>\n",
       "      <td>North Queens</td>\n",
       "      <td>11354, 11355, 11356, 11357, 11358, 11359, 11360</td>\n",
       "    </tr>\n",
       "    <tr>\n",
       "      <th>30</th>\n",
       "      <td>Queens</td>\n",
       "      <td>Central Queens</td>\n",
       "      <td>11365, 11366, 11367</td>\n",
       "    </tr>\n",
       "    <tr>\n",
       "      <th>31</th>\n",
       "      <td>Queens</td>\n",
       "      <td>Jamaica</td>\n",
       "      <td>11412, 11423, 11432, 11433, 11434, 11435, 11436</td>\n",
       "    </tr>\n",
       "    <tr>\n",
       "      <th>32</th>\n",
       "      <td>Queens</td>\n",
       "      <td>Northwest Queens</td>\n",
       "      <td>11101, 11102, 11103, 11104, 11105, 11106</td>\n",
       "    </tr>\n",
       "    <tr>\n",
       "      <th>33</th>\n",
       "      <td>Queens</td>\n",
       "      <td>West Central Queens</td>\n",
       "      <td>11374, 11375, 11379, 11385</td>\n",
       "    </tr>\n",
       "    <tr>\n",
       "      <th>34</th>\n",
       "      <td>Queens</td>\n",
       "      <td>Rockaways</td>\n",
       "      <td>11691, 11692, 11693, 11694, 11695, 11697</td>\n",
       "    </tr>\n",
       "    <tr>\n",
       "      <th>35</th>\n",
       "      <td>Queens</td>\n",
       "      <td>Southeast Queens</td>\n",
       "      <td>11004, 11005, 11411, 11413, 11422, 11426, 1142...</td>\n",
       "    </tr>\n",
       "    <tr>\n",
       "      <th>36</th>\n",
       "      <td>Queens</td>\n",
       "      <td>Southwest Queens</td>\n",
       "      <td>11414, 11415, 11416, 11417, 11418, 11419, 1142...</td>\n",
       "    </tr>\n",
       "    <tr>\n",
       "      <th>37</th>\n",
       "      <td>Queens</td>\n",
       "      <td>West Queens</td>\n",
       "      <td>11368, 11369, 11370, 11372, 11373, 11377, 11378</td>\n",
       "    </tr>\n",
       "  </tbody>\n",
       "</table>\n",
       "</div>"
      ],
      "text/plain": [
       "   Borough         Neighborhood  \\\n",
       "28  Queens     Northeast Queens   \n",
       "29  Queens         North Queens   \n",
       "30  Queens       Central Queens   \n",
       "31  Queens              Jamaica   \n",
       "32  Queens     Northwest Queens   \n",
       "33  Queens  West Central Queens   \n",
       "34  Queens            Rockaways   \n",
       "35  Queens     Southeast Queens   \n",
       "36  Queens     Southwest Queens   \n",
       "37  Queens          West Queens   \n",
       "\n",
       "                                            ZIP Codes  \n",
       "28                         11361, 11362, 11363, 11364  \n",
       "29    11354, 11355, 11356, 11357, 11358, 11359, 11360  \n",
       "30                                11365, 11366, 11367  \n",
       "31    11412, 11423, 11432, 11433, 11434, 11435, 11436  \n",
       "32           11101, 11102, 11103, 11104, 11105, 11106  \n",
       "33                         11374, 11375, 11379, 11385  \n",
       "34           11691, 11692, 11693, 11694, 11695, 11697  \n",
       "35  11004, 11005, 11411, 11413, 11422, 11426, 1142...  \n",
       "36  11414, 11415, 11416, 11417, 11418, 11419, 1142...  \n",
       "37    11368, 11369, 11370, 11372, 11373, 11377, 11378  "
      ]
     },
     "execution_count": 19,
     "metadata": {},
     "output_type": "execute_result"
    }
   ],
   "source": [
    "queens_table = zips[zips['Borough'] == 'Queens']\n",
    "queens_table"
   ]
  },
  {
   "cell_type": "code",
   "execution_count": 22,
   "metadata": {},
   "outputs": [
    {
     "data": {
      "text/plain": [
       "Index(['Borough', 'Neighborhood', 'ZIP Codes'], dtype='object')"
      ]
     },
     "execution_count": 22,
     "metadata": {},
     "output_type": "execute_result"
    }
   ],
   "source": [
    "queens_table.columns"
   ]
  },
  {
   "cell_type": "code",
   "execution_count": 26,
   "metadata": {},
   "outputs": [
    {
     "data": {
      "text/plain": [
       "[['11361', ' 11362', ' 11363', ' 11364'],\n",
       " ['11354', ' 11355', ' 11356', ' 11357', ' 11358', ' 11359', ' 11360'],\n",
       " ['11365', ' 11366', ' 11367'],\n",
       " ['11412', ' 11423', ' 11432', ' 11433', ' 11434', ' 11435', ' 11436'],\n",
       " ['11101', ' 11102', ' 11103', ' 11104', ' 11105', ' 11106'],\n",
       " ['11374', ' 11375', ' 11379', ' 11385'],\n",
       " ['11691', ' 11692', ' 11693', ' 11694', ' 11695', ' 11697'],\n",
       " ['11004',\n",
       "  ' 11005',\n",
       "  ' 11411',\n",
       "  ' 11413',\n",
       "  ' 11422',\n",
       "  ' 11426',\n",
       "  ' 11427',\n",
       "  ' 11428',\n",
       "  ' 11429'],\n",
       " ['11414',\n",
       "  ' 11415',\n",
       "  ' 11416',\n",
       "  ' 11417',\n",
       "  ' 11418',\n",
       "  ' 11419',\n",
       "  ' 11420',\n",
       "  ' 11421'],\n",
       " ['11368', ' 11369', ' 11370', ' 11372', ' 11373', ' 11377', ' 11378']]"
      ]
     },
     "execution_count": 26,
     "metadata": {},
     "output_type": "execute_result"
    }
   ],
   "source": [
    "queens_zips = [i.split(',') for i in queens_table['ZIP Codes']]\n",
    "queens_zips\n",
    "    "
   ]
  },
  {
   "cell_type": "code",
   "execution_count": 28,
   "metadata": {
    "collapsed": true,
    "jupyter": {
     "outputs_hidden": true
    }
   },
   "outputs": [
    {
     "data": {
      "text/plain": [
       "['11361',\n",
       " ' 11362',\n",
       " ' 11363',\n",
       " ' 11364',\n",
       " '11354',\n",
       " ' 11355',\n",
       " ' 11356',\n",
       " ' 11357',\n",
       " ' 11358',\n",
       " ' 11359',\n",
       " ' 11360',\n",
       " '11365',\n",
       " ' 11366',\n",
       " ' 11367',\n",
       " '11412',\n",
       " ' 11423',\n",
       " ' 11432',\n",
       " ' 11433',\n",
       " ' 11434',\n",
       " ' 11435',\n",
       " ' 11436',\n",
       " '11101',\n",
       " ' 11102',\n",
       " ' 11103',\n",
       " ' 11104',\n",
       " ' 11105',\n",
       " ' 11106',\n",
       " '11374',\n",
       " ' 11375',\n",
       " ' 11379',\n",
       " ' 11385',\n",
       " '11691',\n",
       " ' 11692',\n",
       " ' 11693',\n",
       " ' 11694',\n",
       " ' 11695',\n",
       " ' 11697',\n",
       " '11004',\n",
       " ' 11005',\n",
       " ' 11411',\n",
       " ' 11413',\n",
       " ' 11422',\n",
       " ' 11426',\n",
       " ' 11427',\n",
       " ' 11428',\n",
       " ' 11429',\n",
       " '11414',\n",
       " ' 11415',\n",
       " ' 11416',\n",
       " ' 11417',\n",
       " ' 11418',\n",
       " ' 11419',\n",
       " ' 11420',\n",
       " ' 11421',\n",
       " '11368',\n",
       " ' 11369',\n",
       " ' 11370',\n",
       " ' 11372',\n",
       " ' 11373',\n",
       " ' 11377',\n",
       " ' 11378']"
      ]
     },
     "execution_count": 28,
     "metadata": {},
     "output_type": "execute_result"
    }
   ],
   "source": [
    "queens = []\n",
    "for j in queens_zips:\n",
    "    for k in j:\n",
    "        queens.append(k)\n",
    "queens"
   ]
  },
  {
   "cell_type": "code",
   "execution_count": 29,
   "metadata": {},
   "outputs": [
    {
     "data": {
      "text/plain": [
       "61"
      ]
     },
     "execution_count": 29,
     "metadata": {},
     "output_type": "execute_result"
    }
   ],
   "source": [
    "len(queens)"
   ]
  },
  {
   "cell_type": "code",
   "execution_count": 44,
   "metadata": {},
   "outputs": [],
   "source": [
    "queens_ser = pd.Series(queens)"
   ]
  },
  {
   "cell_type": "code",
   "execution_count": 45,
   "metadata": {},
   "outputs": [
    {
     "data": {
      "text/plain": [
       "61"
      ]
     },
     "execution_count": 45,
     "metadata": {},
     "output_type": "execute_result"
    }
   ],
   "source": [
    "queens_ser.nunique()"
   ]
  },
  {
   "cell_type": "code",
   "execution_count": 20,
   "metadata": {},
   "outputs": [
    {
     "data": {
      "text/html": [
       "<div>\n",
       "<style scoped>\n",
       "    .dataframe tbody tr th:only-of-type {\n",
       "        vertical-align: middle;\n",
       "    }\n",
       "\n",
       "    .dataframe tbody tr th {\n",
       "        vertical-align: top;\n",
       "    }\n",
       "\n",
       "    .dataframe thead th {\n",
       "        text-align: right;\n",
       "    }\n",
       "</style>\n",
       "<table border=\"1\" class=\"dataframe\">\n",
       "  <thead>\n",
       "    <tr style=\"text-align: right;\">\n",
       "      <th></th>\n",
       "      <th>Borough</th>\n",
       "      <th>Neighborhood</th>\n",
       "      <th>ZIP Codes</th>\n",
       "    </tr>\n",
       "  </thead>\n",
       "  <tbody>\n",
       "    <tr>\n",
       "      <th>7</th>\n",
       "      <td>Brooklyn</td>\n",
       "      <td>Central Brooklyn</td>\n",
       "      <td>11212, 11213, 11216, 11233, 11238</td>\n",
       "    </tr>\n",
       "    <tr>\n",
       "      <th>8</th>\n",
       "      <td>Brooklyn</td>\n",
       "      <td>Southwest Brooklyn</td>\n",
       "      <td>11209, 11214, 11228</td>\n",
       "    </tr>\n",
       "    <tr>\n",
       "      <th>9</th>\n",
       "      <td>Brooklyn</td>\n",
       "      <td>Borough Park</td>\n",
       "      <td>11204, 11218, 11219, 11230</td>\n",
       "    </tr>\n",
       "    <tr>\n",
       "      <th>10</th>\n",
       "      <td>Brooklyn</td>\n",
       "      <td>Canarsie and Flatlands</td>\n",
       "      <td>11234, 11236, 11239</td>\n",
       "    </tr>\n",
       "    <tr>\n",
       "      <th>11</th>\n",
       "      <td>Brooklyn</td>\n",
       "      <td>Southern Brooklyn</td>\n",
       "      <td>11223, 11224, 11229, 11235</td>\n",
       "    </tr>\n",
       "    <tr>\n",
       "      <th>12</th>\n",
       "      <td>Brooklyn</td>\n",
       "      <td>Northwest Brooklyn</td>\n",
       "      <td>11201, 11205, 11215, 11217, 11231</td>\n",
       "    </tr>\n",
       "    <tr>\n",
       "      <th>13</th>\n",
       "      <td>Brooklyn</td>\n",
       "      <td>Flatbush</td>\n",
       "      <td>11203, 11210, 11225, 11226</td>\n",
       "    </tr>\n",
       "    <tr>\n",
       "      <th>14</th>\n",
       "      <td>Brooklyn</td>\n",
       "      <td>East New York and New Lots</td>\n",
       "      <td>11207, 11208</td>\n",
       "    </tr>\n",
       "    <tr>\n",
       "      <th>15</th>\n",
       "      <td>Brooklyn</td>\n",
       "      <td>Greenpoint</td>\n",
       "      <td>11211, 11222</td>\n",
       "    </tr>\n",
       "    <tr>\n",
       "      <th>16</th>\n",
       "      <td>Brooklyn</td>\n",
       "      <td>Sunset Park</td>\n",
       "      <td>11220, 11232</td>\n",
       "    </tr>\n",
       "    <tr>\n",
       "      <th>17</th>\n",
       "      <td>Brooklyn</td>\n",
       "      <td>Bushwick and Williamsburg</td>\n",
       "      <td>11206, 11221, 11237</td>\n",
       "    </tr>\n",
       "  </tbody>\n",
       "</table>\n",
       "</div>"
      ],
      "text/plain": [
       "     Borough                Neighborhood                          ZIP Codes\n",
       "7   Brooklyn            Central Brooklyn  11212, 11213, 11216, 11233, 11238\n",
       "8   Brooklyn          Southwest Brooklyn                11209, 11214, 11228\n",
       "9   Brooklyn                Borough Park         11204, 11218, 11219, 11230\n",
       "10  Brooklyn      Canarsie and Flatlands                11234, 11236, 11239\n",
       "11  Brooklyn           Southern Brooklyn         11223, 11224, 11229, 11235\n",
       "12  Brooklyn          Northwest Brooklyn  11201, 11205, 11215, 11217, 11231\n",
       "13  Brooklyn                    Flatbush         11203, 11210, 11225, 11226\n",
       "14  Brooklyn  East New York and New Lots                       11207, 11208\n",
       "15  Brooklyn                  Greenpoint                       11211, 11222\n",
       "16  Brooklyn                 Sunset Park                       11220, 11232\n",
       "17  Brooklyn   Bushwick and Williamsburg                11206, 11221, 11237"
      ]
     },
     "execution_count": 20,
     "metadata": {},
     "output_type": "execute_result"
    }
   ],
   "source": [
    "bk_table = zips[zips['Borough'] == 'Brooklyn']\n",
    "bk_table"
   ]
  },
  {
   "cell_type": "code",
   "execution_count": 38,
   "metadata": {},
   "outputs": [
    {
     "data": {
      "text/plain": [
       "[['11212', ' 11213', ' 11216', ' 11233', ' 11238'],\n",
       " ['11209', ' 11214', ' 11228'],\n",
       " ['11204', ' 11218', ' 11219', ' 11230'],\n",
       " ['11234', ' 11236', ' 11239'],\n",
       " ['11223', ' 11224', ' 11229', ' 11235'],\n",
       " ['11201', ' 11205', ' 11215', ' 11217', ' 11231'],\n",
       " ['11203', ' 11210', ' 11225', ' 11226'],\n",
       " ['11207', ' 11208'],\n",
       " ['11211', ' 11222'],\n",
       " ['11220', ' 11232'],\n",
       " ['11206', ' 11221', ' 11237']]"
      ]
     },
     "execution_count": 38,
     "metadata": {},
     "output_type": "execute_result"
    }
   ],
   "source": [
    "bk_zips = [m.split(',') for m in bk_table['ZIP Codes']]\n",
    "bk_zips\n",
    "    "
   ]
  },
  {
   "cell_type": "code",
   "execution_count": 39,
   "metadata": {
    "collapsed": true,
    "jupyter": {
     "outputs_hidden": true
    }
   },
   "outputs": [
    {
     "data": {
      "text/plain": [
       "['11212',\n",
       " ' 11213',\n",
       " ' 11216',\n",
       " ' 11233',\n",
       " ' 11238',\n",
       " '11209',\n",
       " ' 11214',\n",
       " ' 11228',\n",
       " '11204',\n",
       " ' 11218',\n",
       " ' 11219',\n",
       " ' 11230',\n",
       " '11234',\n",
       " ' 11236',\n",
       " ' 11239',\n",
       " '11223',\n",
       " ' 11224',\n",
       " ' 11229',\n",
       " ' 11235',\n",
       " '11201',\n",
       " ' 11205',\n",
       " ' 11215',\n",
       " ' 11217',\n",
       " ' 11231',\n",
       " '11203',\n",
       " ' 11210',\n",
       " ' 11225',\n",
       " ' 11226',\n",
       " '11207',\n",
       " ' 11208',\n",
       " '11211',\n",
       " ' 11222',\n",
       " '11220',\n",
       " ' 11232',\n",
       " '11206',\n",
       " ' 11221',\n",
       " ' 11237']"
      ]
     },
     "execution_count": 39,
     "metadata": {},
     "output_type": "execute_result"
    }
   ],
   "source": [
    "bkln= []\n",
    "for n in bk_zips:\n",
    "    for o in n:\n",
    "        bkln.append(o)\n",
    "bkln"
   ]
  },
  {
   "cell_type": "code",
   "execution_count": 40,
   "metadata": {},
   "outputs": [
    {
     "data": {
      "text/plain": [
       "37"
      ]
     },
     "execution_count": 40,
     "metadata": {},
     "output_type": "execute_result"
    }
   ],
   "source": [
    "len(bkln)"
   ]
  },
  {
   "cell_type": "code",
   "execution_count": 46,
   "metadata": {},
   "outputs": [],
   "source": [
    "bkln_ser = pd.Series(bkln)"
   ]
  },
  {
   "cell_type": "code",
   "execution_count": 47,
   "metadata": {},
   "outputs": [
    {
     "data": {
      "text/plain": [
       "37"
      ]
     },
     "execution_count": 47,
     "metadata": {},
     "output_type": "execute_result"
    }
   ],
   "source": [
    "bkln_ser.nunique()"
   ]
  },
  {
   "cell_type": "code",
   "execution_count": 53,
   "metadata": {},
   "outputs": [],
   "source": [
    "zipcodes = pd.concat([bkln_ser, queens_ser], axis = 1)"
   ]
  },
  {
   "cell_type": "code",
   "execution_count": 54,
   "metadata": {},
   "outputs": [
    {
     "data": {
      "text/html": [
       "<div>\n",
       "<style scoped>\n",
       "    .dataframe tbody tr th:only-of-type {\n",
       "        vertical-align: middle;\n",
       "    }\n",
       "\n",
       "    .dataframe tbody tr th {\n",
       "        vertical-align: top;\n",
       "    }\n",
       "\n",
       "    .dataframe thead th {\n",
       "        text-align: right;\n",
       "    }\n",
       "</style>\n",
       "<table border=\"1\" class=\"dataframe\">\n",
       "  <thead>\n",
       "    <tr style=\"text-align: right;\">\n",
       "      <th></th>\n",
       "      <th>0</th>\n",
       "      <th>1</th>\n",
       "    </tr>\n",
       "  </thead>\n",
       "  <tbody>\n",
       "    <tr>\n",
       "      <th>0</th>\n",
       "      <td>11212</td>\n",
       "      <td>11361</td>\n",
       "    </tr>\n",
       "    <tr>\n",
       "      <th>1</th>\n",
       "      <td>11213</td>\n",
       "      <td>11362</td>\n",
       "    </tr>\n",
       "    <tr>\n",
       "      <th>2</th>\n",
       "      <td>11216</td>\n",
       "      <td>11363</td>\n",
       "    </tr>\n",
       "    <tr>\n",
       "      <th>3</th>\n",
       "      <td>11233</td>\n",
       "      <td>11364</td>\n",
       "    </tr>\n",
       "    <tr>\n",
       "      <th>4</th>\n",
       "      <td>11238</td>\n",
       "      <td>11354</td>\n",
       "    </tr>\n",
       "    <tr>\n",
       "      <th>...</th>\n",
       "      <td>...</td>\n",
       "      <td>...</td>\n",
       "    </tr>\n",
       "    <tr>\n",
       "      <th>56</th>\n",
       "      <td>NaN</td>\n",
       "      <td>11370</td>\n",
       "    </tr>\n",
       "    <tr>\n",
       "      <th>57</th>\n",
       "      <td>NaN</td>\n",
       "      <td>11372</td>\n",
       "    </tr>\n",
       "    <tr>\n",
       "      <th>58</th>\n",
       "      <td>NaN</td>\n",
       "      <td>11373</td>\n",
       "    </tr>\n",
       "    <tr>\n",
       "      <th>59</th>\n",
       "      <td>NaN</td>\n",
       "      <td>11377</td>\n",
       "    </tr>\n",
       "    <tr>\n",
       "      <th>60</th>\n",
       "      <td>NaN</td>\n",
       "      <td>11378</td>\n",
       "    </tr>\n",
       "  </tbody>\n",
       "</table>\n",
       "<p>61 rows × 2 columns</p>\n",
       "</div>"
      ],
      "text/plain": [
       "         0       1\n",
       "0    11212   11361\n",
       "1    11213   11362\n",
       "2    11216   11363\n",
       "3    11233   11364\n",
       "4    11238   11354\n",
       "..     ...     ...\n",
       "56     NaN   11370\n",
       "57     NaN   11372\n",
       "58     NaN   11373\n",
       "59     NaN   11377\n",
       "60     NaN   11378\n",
       "\n",
       "[61 rows x 2 columns]"
      ]
     },
     "execution_count": 54,
     "metadata": {},
     "output_type": "execute_result"
    }
   ],
   "source": [
    "zipcodes"
   ]
  },
  {
   "cell_type": "code",
   "execution_count": 58,
   "metadata": {},
   "outputs": [],
   "source": [
    "zipcodes.rename(columns = {0:'Brooklyn', 1:'Queens'}, inplace=True)"
   ]
  },
  {
   "cell_type": "code",
   "execution_count": 59,
   "metadata": {},
   "outputs": [
    {
     "data": {
      "text/html": [
       "<div>\n",
       "<style scoped>\n",
       "    .dataframe tbody tr th:only-of-type {\n",
       "        vertical-align: middle;\n",
       "    }\n",
       "\n",
       "    .dataframe tbody tr th {\n",
       "        vertical-align: top;\n",
       "    }\n",
       "\n",
       "    .dataframe thead th {\n",
       "        text-align: right;\n",
       "    }\n",
       "</style>\n",
       "<table border=\"1\" class=\"dataframe\">\n",
       "  <thead>\n",
       "    <tr style=\"text-align: right;\">\n",
       "      <th></th>\n",
       "      <th>Brooklyn</th>\n",
       "      <th>Queens</th>\n",
       "    </tr>\n",
       "  </thead>\n",
       "  <tbody>\n",
       "    <tr>\n",
       "      <th>0</th>\n",
       "      <td>11212</td>\n",
       "      <td>11361</td>\n",
       "    </tr>\n",
       "    <tr>\n",
       "      <th>1</th>\n",
       "      <td>11213</td>\n",
       "      <td>11362</td>\n",
       "    </tr>\n",
       "    <tr>\n",
       "      <th>2</th>\n",
       "      <td>11216</td>\n",
       "      <td>11363</td>\n",
       "    </tr>\n",
       "    <tr>\n",
       "      <th>3</th>\n",
       "      <td>11233</td>\n",
       "      <td>11364</td>\n",
       "    </tr>\n",
       "    <tr>\n",
       "      <th>4</th>\n",
       "      <td>11238</td>\n",
       "      <td>11354</td>\n",
       "    </tr>\n",
       "    <tr>\n",
       "      <th>...</th>\n",
       "      <td>...</td>\n",
       "      <td>...</td>\n",
       "    </tr>\n",
       "    <tr>\n",
       "      <th>56</th>\n",
       "      <td>NaN</td>\n",
       "      <td>11370</td>\n",
       "    </tr>\n",
       "    <tr>\n",
       "      <th>57</th>\n",
       "      <td>NaN</td>\n",
       "      <td>11372</td>\n",
       "    </tr>\n",
       "    <tr>\n",
       "      <th>58</th>\n",
       "      <td>NaN</td>\n",
       "      <td>11373</td>\n",
       "    </tr>\n",
       "    <tr>\n",
       "      <th>59</th>\n",
       "      <td>NaN</td>\n",
       "      <td>11377</td>\n",
       "    </tr>\n",
       "    <tr>\n",
       "      <th>60</th>\n",
       "      <td>NaN</td>\n",
       "      <td>11378</td>\n",
       "    </tr>\n",
       "  </tbody>\n",
       "</table>\n",
       "<p>61 rows × 2 columns</p>\n",
       "</div>"
      ],
      "text/plain": [
       "   Brooklyn  Queens\n",
       "0     11212   11361\n",
       "1     11213   11362\n",
       "2     11216   11363\n",
       "3     11233   11364\n",
       "4     11238   11354\n",
       "..      ...     ...\n",
       "56      NaN   11370\n",
       "57      NaN   11372\n",
       "58      NaN   11373\n",
       "59      NaN   11377\n",
       "60      NaN   11378\n",
       "\n",
       "[61 rows x 2 columns]"
      ]
     },
     "execution_count": 59,
     "metadata": {},
     "output_type": "execute_result"
    }
   ],
   "source": [
    "zipcodes"
   ]
  },
  {
   "cell_type": "code",
   "execution_count": 60,
   "metadata": {},
   "outputs": [],
   "source": [
    "bkln_ser.to_csv('bk_zips.csv', index=False)"
   ]
  },
  {
   "cell_type": "code",
   "execution_count": 61,
   "metadata": {},
   "outputs": [],
   "source": [
    "queens_ser.to_csv('qns_zips.csv', index=False)"
   ]
  },
  {
   "cell_type": "code",
   "execution_count": 62,
   "metadata": {
    "collapsed": true,
    "jupyter": {
     "outputs_hidden": true
    }
   },
   "outputs": [
    {
     "data": {
      "text/html": [
       "<div>\n",
       "<style scoped>\n",
       "    .dataframe tbody tr th:only-of-type {\n",
       "        vertical-align: middle;\n",
       "    }\n",
       "\n",
       "    .dataframe tbody tr th {\n",
       "        vertical-align: top;\n",
       "    }\n",
       "\n",
       "    .dataframe thead th {\n",
       "        text-align: right;\n",
       "    }\n",
       "</style>\n",
       "<table border=\"1\" class=\"dataframe\">\n",
       "  <thead>\n",
       "    <tr style=\"text-align: right;\">\n",
       "      <th></th>\n",
       "      <th>0</th>\n",
       "    </tr>\n",
       "  </thead>\n",
       "  <tbody>\n",
       "    <tr>\n",
       "      <th>0</th>\n",
       "      <td>11212</td>\n",
       "    </tr>\n",
       "    <tr>\n",
       "      <th>1</th>\n",
       "      <td>11213</td>\n",
       "    </tr>\n",
       "    <tr>\n",
       "      <th>2</th>\n",
       "      <td>11216</td>\n",
       "    </tr>\n",
       "    <tr>\n",
       "      <th>3</th>\n",
       "      <td>11233</td>\n",
       "    </tr>\n",
       "    <tr>\n",
       "      <th>4</th>\n",
       "      <td>11238</td>\n",
       "    </tr>\n",
       "    <tr>\n",
       "      <th>5</th>\n",
       "      <td>11209</td>\n",
       "    </tr>\n",
       "    <tr>\n",
       "      <th>6</th>\n",
       "      <td>11214</td>\n",
       "    </tr>\n",
       "    <tr>\n",
       "      <th>7</th>\n",
       "      <td>11228</td>\n",
       "    </tr>\n",
       "    <tr>\n",
       "      <th>8</th>\n",
       "      <td>11204</td>\n",
       "    </tr>\n",
       "    <tr>\n",
       "      <th>9</th>\n",
       "      <td>11218</td>\n",
       "    </tr>\n",
       "    <tr>\n",
       "      <th>10</th>\n",
       "      <td>11219</td>\n",
       "    </tr>\n",
       "    <tr>\n",
       "      <th>11</th>\n",
       "      <td>11230</td>\n",
       "    </tr>\n",
       "    <tr>\n",
       "      <th>12</th>\n",
       "      <td>11234</td>\n",
       "    </tr>\n",
       "    <tr>\n",
       "      <th>13</th>\n",
       "      <td>11236</td>\n",
       "    </tr>\n",
       "    <tr>\n",
       "      <th>14</th>\n",
       "      <td>11239</td>\n",
       "    </tr>\n",
       "    <tr>\n",
       "      <th>15</th>\n",
       "      <td>11223</td>\n",
       "    </tr>\n",
       "    <tr>\n",
       "      <th>16</th>\n",
       "      <td>11224</td>\n",
       "    </tr>\n",
       "    <tr>\n",
       "      <th>17</th>\n",
       "      <td>11229</td>\n",
       "    </tr>\n",
       "    <tr>\n",
       "      <th>18</th>\n",
       "      <td>11235</td>\n",
       "    </tr>\n",
       "    <tr>\n",
       "      <th>19</th>\n",
       "      <td>11201</td>\n",
       "    </tr>\n",
       "    <tr>\n",
       "      <th>20</th>\n",
       "      <td>11205</td>\n",
       "    </tr>\n",
       "    <tr>\n",
       "      <th>21</th>\n",
       "      <td>11215</td>\n",
       "    </tr>\n",
       "    <tr>\n",
       "      <th>22</th>\n",
       "      <td>11217</td>\n",
       "    </tr>\n",
       "    <tr>\n",
       "      <th>23</th>\n",
       "      <td>11231</td>\n",
       "    </tr>\n",
       "    <tr>\n",
       "      <th>24</th>\n",
       "      <td>11203</td>\n",
       "    </tr>\n",
       "    <tr>\n",
       "      <th>25</th>\n",
       "      <td>11210</td>\n",
       "    </tr>\n",
       "    <tr>\n",
       "      <th>26</th>\n",
       "      <td>11225</td>\n",
       "    </tr>\n",
       "    <tr>\n",
       "      <th>27</th>\n",
       "      <td>11226</td>\n",
       "    </tr>\n",
       "    <tr>\n",
       "      <th>28</th>\n",
       "      <td>11207</td>\n",
       "    </tr>\n",
       "    <tr>\n",
       "      <th>29</th>\n",
       "      <td>11208</td>\n",
       "    </tr>\n",
       "    <tr>\n",
       "      <th>30</th>\n",
       "      <td>11211</td>\n",
       "    </tr>\n",
       "    <tr>\n",
       "      <th>31</th>\n",
       "      <td>11222</td>\n",
       "    </tr>\n",
       "    <tr>\n",
       "      <th>32</th>\n",
       "      <td>11220</td>\n",
       "    </tr>\n",
       "    <tr>\n",
       "      <th>33</th>\n",
       "      <td>11232</td>\n",
       "    </tr>\n",
       "    <tr>\n",
       "      <th>34</th>\n",
       "      <td>11206</td>\n",
       "    </tr>\n",
       "    <tr>\n",
       "      <th>35</th>\n",
       "      <td>11221</td>\n",
       "    </tr>\n",
       "    <tr>\n",
       "      <th>36</th>\n",
       "      <td>11237</td>\n",
       "    </tr>\n",
       "  </tbody>\n",
       "</table>\n",
       "</div>"
      ],
      "text/plain": [
       "        0\n",
       "0   11212\n",
       "1   11213\n",
       "2   11216\n",
       "3   11233\n",
       "4   11238\n",
       "5   11209\n",
       "6   11214\n",
       "7   11228\n",
       "8   11204\n",
       "9   11218\n",
       "10  11219\n",
       "11  11230\n",
       "12  11234\n",
       "13  11236\n",
       "14  11239\n",
       "15  11223\n",
       "16  11224\n",
       "17  11229\n",
       "18  11235\n",
       "19  11201\n",
       "20  11205\n",
       "21  11215\n",
       "22  11217\n",
       "23  11231\n",
       "24  11203\n",
       "25  11210\n",
       "26  11225\n",
       "27  11226\n",
       "28  11207\n",
       "29  11208\n",
       "30  11211\n",
       "31  11222\n",
       "32  11220\n",
       "33  11232\n",
       "34  11206\n",
       "35  11221\n",
       "36  11237"
      ]
     },
     "execution_count": 62,
     "metadata": {},
     "output_type": "execute_result"
    }
   ],
   "source": [
    "check_bk = pd.read_csv('./bk_zips.csv')\n",
    "check_bk"
   ]
  },
  {
   "cell_type": "code",
   "execution_count": 64,
   "metadata": {
    "collapsed": true,
    "jupyter": {
     "outputs_hidden": true
    }
   },
   "outputs": [
    {
     "data": {
      "text/html": [
       "<div>\n",
       "<style scoped>\n",
       "    .dataframe tbody tr th:only-of-type {\n",
       "        vertical-align: middle;\n",
       "    }\n",
       "\n",
       "    .dataframe tbody tr th {\n",
       "        vertical-align: top;\n",
       "    }\n",
       "\n",
       "    .dataframe thead th {\n",
       "        text-align: right;\n",
       "    }\n",
       "</style>\n",
       "<table border=\"1\" class=\"dataframe\">\n",
       "  <thead>\n",
       "    <tr style=\"text-align: right;\">\n",
       "      <th></th>\n",
       "      <th>0</th>\n",
       "    </tr>\n",
       "  </thead>\n",
       "  <tbody>\n",
       "    <tr>\n",
       "      <th>0</th>\n",
       "      <td>11361</td>\n",
       "    </tr>\n",
       "    <tr>\n",
       "      <th>1</th>\n",
       "      <td>11362</td>\n",
       "    </tr>\n",
       "    <tr>\n",
       "      <th>2</th>\n",
       "      <td>11363</td>\n",
       "    </tr>\n",
       "    <tr>\n",
       "      <th>3</th>\n",
       "      <td>11364</td>\n",
       "    </tr>\n",
       "    <tr>\n",
       "      <th>4</th>\n",
       "      <td>11354</td>\n",
       "    </tr>\n",
       "    <tr>\n",
       "      <th>...</th>\n",
       "      <td>...</td>\n",
       "    </tr>\n",
       "    <tr>\n",
       "      <th>56</th>\n",
       "      <td>11370</td>\n",
       "    </tr>\n",
       "    <tr>\n",
       "      <th>57</th>\n",
       "      <td>11372</td>\n",
       "    </tr>\n",
       "    <tr>\n",
       "      <th>58</th>\n",
       "      <td>11373</td>\n",
       "    </tr>\n",
       "    <tr>\n",
       "      <th>59</th>\n",
       "      <td>11377</td>\n",
       "    </tr>\n",
       "    <tr>\n",
       "      <th>60</th>\n",
       "      <td>11378</td>\n",
       "    </tr>\n",
       "  </tbody>\n",
       "</table>\n",
       "<p>61 rows × 1 columns</p>\n",
       "</div>"
      ],
      "text/plain": [
       "        0\n",
       "0   11361\n",
       "1   11362\n",
       "2   11363\n",
       "3   11364\n",
       "4   11354\n",
       "..    ...\n",
       "56  11370\n",
       "57  11372\n",
       "58  11373\n",
       "59  11377\n",
       "60  11378\n",
       "\n",
       "[61 rows x 1 columns]"
      ]
     },
     "execution_count": 64,
     "metadata": {},
     "output_type": "execute_result"
    }
   ],
   "source": [
    "check_qns = pd.read_csv('./qns_zips.csv')\n",
    "check_qns"
   ]
  },
  {
   "cell_type": "code",
   "execution_count": null,
   "metadata": {},
   "outputs": [],
   "source": []
  }
 ],
 "metadata": {
  "kernelspec": {
   "display_name": "Python 3",
   "language": "python",
   "name": "python3"
  },
  "language_info": {
   "codemirror_mode": {
    "name": "ipython",
    "version": 3
   },
   "file_extension": ".py",
   "mimetype": "text/x-python",
   "name": "python",
   "nbconvert_exporter": "python",
   "pygments_lexer": "ipython3",
   "version": "3.8.3"
  }
 },
 "nbformat": 4,
 "nbformat_minor": 4
}
